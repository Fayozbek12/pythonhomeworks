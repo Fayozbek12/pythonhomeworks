{
 "cells": [
  {
   "cell_type": "code",
   "execution_count": null,
   "metadata": {},
   "outputs": [],
   "source": [
    "#1 \n",
    "if"
   ]
  },
  {
   "cell_type": "code",
   "execution_count": 1,
   "metadata": {},
   "outputs": [
    {
     "name": "stdout",
     "output_type": "stream",
     "text": [
      "You are man\n"
     ]
    }
   ],
   "source": [
    "#2\n",
    "age=int(input('please enter your age'))\n",
    "if age>16 :\n",
    "    print('You are man')\n",
    "else:\n",
    "    print('You are young boy')"
   ]
  },
  {
   "cell_type": "code",
   "execution_count": null,
   "metadata": {},
   "outputs": [],
   "source": [
    "#3\n",
    "No"
   ]
  },
  {
   "cell_type": "code",
   "execution_count": 3,
   "metadata": {},
   "outputs": [
    {
     "name": "stdout",
     "output_type": "stream",
     "text": [
      "You are not eligible person for vote\n"
     ]
    }
   ],
   "source": [
    "#4\n",
    "age=int(input('please enter your age'))\n",
    "if age>=18 :\n",
    "    print('You are eligible person for vote')\n",
    "else :\n",
    "    print('You are not eligible person for vote')"
   ]
  },
  {
   "cell_type": "code",
   "execution_count": 6,
   "metadata": {},
   "outputs": [
    {
     "name": "stdout",
     "output_type": "stream",
     "text": [
      "number is odd\n"
     ]
    }
   ],
   "source": [
    "#5\n",
    "number=int(input('please enter number'))\n",
    "if number%2==0:\n",
    "    print('number is even')\n",
    "elif number%2==1:\n",
    "    print('number is odd')\n",
    "else :\n",
    "    print('0')"
   ]
  },
  {
   "cell_type": "code",
   "execution_count": 8,
   "metadata": {},
   "outputs": [
    {
     "name": "stdout",
     "output_type": "stream",
     "text": [
      "number is not divisible\n"
     ]
    }
   ],
   "source": [
    "#6\n",
    "num=int(input('enter number'))\n",
    "if num%7==0 :\n",
    "    print('number is divisible by 7')\n",
    "else :\n",
    "    print('number is not divisible')"
   ]
  },
  {
   "cell_type": "code",
   "execution_count": 10,
   "metadata": {},
   "outputs": [
    {
     "name": "stdout",
     "output_type": "stream",
     "text": [
      "Bye\n"
     ]
    }
   ],
   "source": [
    "#7\n",
    "num=int(input('enter number'))\n",
    "if num%5==0:\n",
    "    print('Hello')\n",
    "else:\n",
    "    print('Bye')"
   ]
  },
  {
   "cell_type": "code",
   "execution_count": 15,
   "metadata": {},
   "outputs": [
    {
     "name": "stdout",
     "output_type": "stream",
     "text": [
      "Amount to pay: 250\n"
     ]
    }
   ],
   "source": [
    "#8\n",
    "uni=0\n",
    "unit =int(input('please enter your unit'))\n",
    "if unit<=100:\n",
    "   uni=0\n",
    "elif unit>100 and unit<=200:\n",
    "    uni=(unit-100)*5\n",
    "elif unit>200:\n",
    "    uni=500+(uni-200)*10\n",
    "print('Amount to pay:', uni)\n"
   ]
  },
  {
   "cell_type": "code",
   "execution_count": null,
   "metadata": {},
   "outputs": [],
   "source": [
    "#9\n",
    "num=int(input('enter number'))\n",
    "print('last digit of number', num%10)"
   ]
  },
  {
   "cell_type": "code",
   "execution_count": 20,
   "metadata": {},
   "outputs": [
    {
     "name": "stdout",
     "output_type": "stream",
     "text": [
      "number is divisible by 3\n"
     ]
    }
   ],
   "source": [
    "#10\n",
    "num=int(input('please enter number'))\n",
    "n=num%10\n",
    "if n%3==0:\n",
    "    print('number is divisible by 3')\n",
    "else:\n",
    "    print('number is not divisible')\n",
    "    \n",
    "    "
   ]
  },
  {
   "cell_type": "code",
   "execution_count": null,
   "metadata": {},
   "outputs": [],
   "source": [
    "#"
   ]
  }
 ],
 "metadata": {
  "kernelspec": {
   "display_name": "Python 3",
   "language": "python",
   "name": "python3"
  },
  "language_info": {
   "codemirror_mode": {
    "name": "ipython",
    "version": 3
   },
   "file_extension": ".py",
   "mimetype": "text/x-python",
   "name": "python",
   "nbconvert_exporter": "python",
   "pygments_lexer": "ipython3",
   "version": "3.12.5"
  }
 },
 "nbformat": 4,
 "nbformat_minor": 2
}
