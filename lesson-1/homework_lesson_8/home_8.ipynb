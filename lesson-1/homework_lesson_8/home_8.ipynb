{
 "cells": [
  {
   "cell_type": "code",
   "execution_count": 1,
   "metadata": {},
   "outputs": [
    {
     "name": "stdout",
     "output_type": "stream",
     "text": [
      "20\n"
     ]
    }
   ],
   "source": [
    "#1 \n",
    "def max_1(a, b, c):\n",
    "    return max(a, b, c)\n",
    "print(max_(10, 20, 15)) \n",
    "\n",
    "def max_2(a, b, c):\n",
    "    if a >= b and a >= c:\n",
    "        return a\n",
    "    elif b >= a and b >= c:\n",
    "        return b\n",
    "    else:\n",
    "        return c\n",
    "\n",
    "print(max_2(10, 20, 15)) \n",
    "\n",
    "def max_3(a, b, c):\n",
    "    max_val = a if a > b else b\n",
    "    max_val = max_val if max_val > c else c\n",
    "    return max_val\n",
    "print(max_of_three_without_max(10, 20, 15)) "
   ]
  },
  {
   "cell_type": "code",
   "execution_count": 2,
   "metadata": {},
   "outputs": [
    {
     "name": "stdout",
     "output_type": "stream",
     "text": [
      "The sum of the list is: 15\n"
     ]
    }
   ],
   "source": [
    "#2\n",
    "def sum_list(numbers):\n",
    "    return sum(numbers)\n",
    "my_list = [1, 2, 3, 4, 5]\n",
    "result = sum_list(my_list)\n",
    "print(\"The sum of the list is:\", result)"
   ]
  },
  {
   "cell_type": "code",
   "execution_count": 3,
   "metadata": {},
   "outputs": [
    {
     "name": "stdout",
     "output_type": "stream",
     "text": [
      "None\n"
     ]
    }
   ],
   "source": [
    "#3\n",
    "def multiply_list(numbers):\n",
    "    \"\"\"Multiplies all numbers in a list.\"\"\"\n",
    "    result = 1  \n",
    "    for num in numbers:\n",
    "        result *= num  \n",
    "nums = [2, 3, 4, 5]\n",
    "print(multiply_list(nums)) \n"
   ]
  },
  {
   "cell_type": "code",
   "execution_count": 4,
   "metadata": {},
   "outputs": [
    {
     "name": "stdout",
     "output_type": "stream",
     "text": [
      "Argument 1: 10\n",
      "Argument 2: Hello\n",
      "Argument 3: 3.14\n",
      "Argument 4: [1, 2, 3]\n",
      "Argument 5: {'key': 'value'}\n"
     ]
    }
   ],
   "source": [
    "#4\n",
    "def display_arguments(*args):\n",
    "    \"\"\"Displays each argument passed to the function.\"\"\"\n",
    "    for i, arg in enumerate(args, start=1):\n",
    "        print(f\"Argument {i}: {arg}\")\n",
    "\n",
    "display_arguments(10, \"Hello\", 3.14, [1, 2, 3], {\"key\": \"value\"})\n"
   ]
  },
  {
   "cell_type": "code",
   "execution_count": 5,
   "metadata": {},
   "outputs": [
    {
     "name": "stdout",
     "output_type": "stream",
     "text": [
      "120\n"
     ]
    }
   ],
   "source": [
    "#5\n",
    "def factorial_iterative(n):\n",
    "    \"\"\"Calculates factorial using an iterative approach.\"\"\"\n",
    "    if n < 0:\n",
    "        return \"Factorial is not defined for negative numbers\"\n",
    "    result = 1\n",
    "    for i in range(1, n + 1):\n",
    "        result *= i\n",
    "    return result\n",
    "\n",
    "print(factorial_iterative(5))  \n"
   ]
  },
  {
   "cell_type": "code",
   "execution_count": 6,
   "metadata": {},
   "outputs": [
    {
     "name": "stdout",
     "output_type": "stream",
     "text": [
      "True\n",
      "False\n"
     ]
    }
   ],
   "source": [
    "#6\n",
    "def is_in_range(number, start, end):\n",
    "    \"\"\"Checks if a number falls within the given range (inclusive).\"\"\"\n",
    "    return start <= number <= end\n",
    "\n",
    "print(is_in_range(5, 1, 10))\n",
    "print(is_in_range(15, 1, 10)) \n"
   ]
  },
  {
   "cell_type": "code",
   "execution_count": 7,
   "metadata": {},
   "outputs": [
    {
     "name": "stdout",
     "output_type": "stream",
     "text": [
      "[1, 2, 3, 4, 5]\n"
     ]
    }
   ],
   "source": [
    "#8\n",
    "def unique_elements(lst):\n",
    "    \"\"\"Returns a list with distinct elements using set() (order not preserved).\"\"\"\n",
    "    return list(set(lst))\n",
    "\n",
    "print(unique_elements([1, 2, 2, 3, 4, 4, 5])) "
   ]
  },
  {
   "cell_type": "code",
   "execution_count": 8,
   "metadata": {},
   "outputs": [
    {
     "name": "stdout",
     "output_type": "stream",
     "text": [
      "True\n",
      "False\n",
      "True\n"
     ]
    }
   ],
   "source": [
    "#9\n",
    "def is_prime(n):\n",
    "    \"\"\"Checks if a number is prime.\"\"\"\n",
    "    if n < 2:\n",
    "        return False  \n",
    "    for i in range(2, int(n ** 0.5) + 1):  \n",
    "        if n % i == 0:\n",
    "            return False\n",
    "    return True\n",
    "\n",
    "\n",
    "print(is_prime(2))   \n",
    "print(is_prime(10))  \n",
    "print(is_prime(17))  \n"
   ]
  },
  {
   "cell_type": "code",
   "execution_count": 9,
   "metadata": {},
   "outputs": [
    {
     "name": "stdout",
     "output_type": "stream",
     "text": [
      "Even numbers: [2, 4, 6, 8, 10]\n"
     ]
    }
   ],
   "source": [
    "#10\n",
    "def print_even_numbers(lst):\n",
    "    \"\"\"Prints even numbers from the given list.\"\"\"\n",
    "    even_numbers = [num for num in lst if num % 2 == 0]\n",
    "    print(\"Even numbers:\", even_numbers)\n",
    "\n",
    "numbers = [1, 2, 3, 4, 5, 6, 7, 8, 9, 10]\n",
    "print_even_numbers(numbers)\n",
    "\n"
   ]
  },
  {
   "cell_type": "code",
   "execution_count": 10,
   "metadata": {},
   "outputs": [
    {
     "name": "stdout",
     "output_type": "stream",
     "text": [
      "True\n",
      "True\n",
      "False\n"
     ]
    }
   ],
   "source": [
    "#11\n",
    "def is_perfect(number):\n",
    "    \"\"\"Checks if a number is a perfect number.\"\"\"\n",
    "    if number < 1:\n",
    "        return False  \n",
    "    \n",
    "    divisors_sum = sum(i for i in range(1, number) if number % i == 0)\n",
    "    \n",
    "    return divisors_sum == number\n",
    "\n",
    "print(is_perfect(6))    \n",
    "print(is_perfect(28))   \n",
    "print(is_perfect(12))  \n"
   ]
  }
 ],
 "metadata": {
  "kernelspec": {
   "display_name": "Python 3",
   "language": "python",
   "name": "python3"
  },
  "language_info": {
   "codemirror_mode": {
    "name": "ipython",
    "version": 3
   },
   "file_extension": ".py",
   "mimetype": "text/x-python",
   "name": "python",
   "nbconvert_exporter": "python",
   "pygments_lexer": "ipython3",
   "version": "3.12.5"
  }
 },
 "nbformat": 4,
 "nbformat_minor": 2
}
